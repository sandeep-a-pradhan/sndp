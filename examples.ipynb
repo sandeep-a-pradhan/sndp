{
 "cells": [
  {
   "cell_type": "code",
   "execution_count": 12,
   "metadata": {
    "collapsed": false
   },
   "outputs": [
    {
     "data": {
      "text/plain": [
       "3"
      ]
     },
     "execution_count": 12,
     "metadata": {},
     "output_type": "execute_result"
    }
   ],
   "source": [
    "7//2"
   ]
  },
  {
   "cell_type": "code",
   "execution_count": 13,
   "metadata": {
    "collapsed": true
   },
   "outputs": [],
   "source": [
    "from __future__ import division"
   ]
  },
  {
   "cell_type": "code",
   "execution_count": 6,
   "metadata": {
    "collapsed": true
   },
   "outputs": [],
   "source": [
    "a = 'one way of writing a string' \n",
    "b = \"another way\"\n",
    "c = '''This is a r\\t multiline string'''"
   ]
  },
  {
   "cell_type": "code",
   "execution_count": 5,
   "metadata": {
    "collapsed": false
   },
   "outputs": [
    {
     "name": "stdout",
     "output_type": "stream",
     "text": [
      "item_one item_two item_three\n"
     ]
    }
   ],
   "source": [
    "#Multi-Line Statements\n",
    "total = 'item_one ' + \\\n",
    "'item_two ' + \\\n",
    "'item_three'\n",
    "print total"
   ]
  },
  {
   "cell_type": "markdown",
   "metadata": {},
   "source": [
    "Multiple line in single statement"
   ]
  },
  {
   "cell_type": "code",
   "execution_count": 1,
   "metadata": {
    "collapsed": false
   },
   "outputs": [
    {
     "name": "stdout",
     "output_type": "stream",
     "text": [
      "foo\n"
     ]
    }
   ],
   "source": [
    "import sys; x = 'foo'; sys.stdout.write(x + '\\n')"
   ]
  },
  {
   "cell_type": "code",
   "execution_count": 3,
   "metadata": {
    "collapsed": false
   },
   "outputs": [
    {
     "name": "stdout",
     "output_type": "stream",
     "text": [
      "1 1 1\n"
     ]
    }
   ],
   "source": [
    "a = b= c = 1 #Multiple assignment\n",
    "print a,b,c\n"
   ]
  },
  {
   "cell_type": "code",
   "execution_count": 5,
   "metadata": {
    "collapsed": false
   },
   "outputs": [
    {
     "name": "stdout",
     "output_type": "stream",
     "text": [
      "John 1 2\n"
     ]
    }
   ],
   "source": [
    "a, b, c = 'John', 1, 2 #Another way of doing Multiple assignment\n",
    "print a,b,c"
   ]
  },
  {
   "cell_type": "markdown",
   "metadata": {},
   "source": [
    "Python has five standard data types- Numbers, String, List, Tuple, Dictionary"
   ]
  },
  {
   "cell_type": "code",
   "execution_count": 8,
   "metadata": {
    "collapsed": true
   },
   "outputs": [],
   "source": [
    "#You can delete a single object or multiple objects by using the del statement.\n",
    "#For example-\n",
    "del var\n",
    "del var_a, var_b"
   ]
  },
  {
   "cell_type": "code",
   "execution_count": 10,
   "metadata": {
    "collapsed": false
   },
   "outputs": [
    {
     "name": "stdout",
     "output_type": "stream",
     "text": [
      "Hello World!\n",
      "H\n",
      "llo\n",
      "llo World!\n",
      "Hello World!Hello World!\n",
      "Hello World!TEST\n"
     ]
    }
   ],
   "source": [
    "#Basic String operation\n",
    "str = 'Hello World!'\n",
    "print (str) # Prints complete string\n",
    "print (str[0]) # Prints first character of the string\n",
    "print (str[2:5]) # Prints characters starting from 3rd to 5th\n",
    "print (str[2:]) # Prints string starting from 3rd character\n",
    "print (str * 2) # Prints string two times\n",
    "print (str + \"TEST\") # Prints concatenated string"
   ]
  },
  {
   "cell_type": "code",
   "execution_count": 11,
   "metadata": {
    "collapsed": false
   },
   "outputs": [
    {
     "name": "stdout",
     "output_type": "stream",
     "text": [
      "['abcd', 786, 2.23, 'john', 70.2]\n",
      "abcd\n",
      "[786, 2.23]\n",
      "[2.23, 'john', 70.2]\n",
      "[123, 'john', 123, 'john']\n",
      "['abcd', 786, 2.23, 'john', 70.2, 123, 'john']\n"
     ]
    }
   ],
   "source": [
    "#Basic List operation\n",
    "list = [ 'abcd', 786 , 2.23, 'john', 70.2 ]\n",
    "tinylist = [123, 'john']\n",
    "print (list) # Prints complete list\n",
    "print (list[0]) # Prints first element of the list\n",
    "print (list[1:3]) # Prints elements starting from 2nd till 3rd\n",
    "print (list[2:]) # Prints elements starting from 3rd element\n",
    "print (tinylist * 2) # Prints list two times\n",
    "print (list + tinylist) # Prints concatenated lists"
   ]
  },
  {
   "cell_type": "code",
   "execution_count": 13,
   "metadata": {
    "collapsed": false
   },
   "outputs": [
    {
     "name": "stdout",
     "output_type": "stream",
     "text": [
      "('abcd', 786, 2.23, 'john', 70.2)\n",
      "abcd\n",
      "(786, 2.23)\n",
      "(2.23, 'john', 70.2)\n",
      "(123, 'john', 123, 'john')\n",
      "('abcd', 786, 2.23, 'john', 70.2, 123, 'john')\n"
     ]
    }
   ],
   "source": [
    "#Basic Tuple operations\n",
    "tuple = ( 'abcd', 786 , 2.23, 'john', 70.2)\n",
    "tinytuple = (123, 'john')\n",
    "print (tuple) # Prints complete tuple\n",
    "print (tuple[0]) # Prints first element of the tuple\n",
    "print (tuple[1:3]) # Prints elements starting from 2nd till 3rd\n",
    "print (tuple[2:]) # Prints elements starting from 3rd element\n",
    "print (tinytuple * 2) # Prints tuple two times\n",
    "print (tuple + tinytuple) # Prints concatenated tuple"
   ]
  },
  {
   "cell_type": "markdown",
   "metadata": {},
   "source": [
    "The following code is invalid with tuple, because we attempted to update a tuple, which is not allowed. Similar case is possible with lists"
   ]
  },
  {
   "cell_type": "code",
   "execution_count": 15,
   "metadata": {
    "collapsed": true
   },
   "outputs": [],
   "source": [
    "tuple = ( 'abcd', 786 , 2.23, 'john', 70.2)\n",
    "list = [ 'abcd', 786 , 2.23, 'john', 70.2]\n",
    "tuple[2] = 1000 # Invalid syntax with tuple\n",
    "list[2] = 1000 # Valid syntax with list"
   ]
  },
  {
   "cell_type": "code",
   "execution_count": 18,
   "metadata": {
    "collapsed": false
   },
   "outputs": [
    {
     "name": "stdout",
     "output_type": "stream",
     "text": [
      "This is one\n",
      "This is two\n",
      "{'dept': 'sales', 'code': 6734, 'name': 'john'}\n",
      "['dept', 'code', 'name']\n",
      "['sales', 6734, 'john']\n"
     ]
    }
   ],
   "source": [
    "#Basic Dictionary operations\n",
    "dict = {}\n",
    "dict['one'] = \"This is one\"\n",
    "dict[2] = \"This is two\"\n",
    "tinydict = {'name': 'john','code':6734, 'dept': 'sales'}\n",
    "print (dict['one']) # Prints value for 'one' key\n",
    "print (dict[2]) # Prints value for 2 key\n",
    "print (tinydict) # Prints complete dictionary\n",
    "print (tinydict.keys()) # Prints all the keys\n",
    "print (tinydict.values()) # Prints all the values"
   ]
  },
  {
   "cell_type": "markdown",
   "metadata": {},
   "source": [
    "Dictionaries have no concept of order among the elements. It is incorrect to say that the\n",
    "elements are \"out of order\"; they are simply unordered."
   ]
  },
  {
   "cell_type": "code",
   "execution_count": 19,
   "metadata": {
    "collapsed": false
   },
   "outputs": [
    {
     "name": "stdout",
     "output_type": "stream",
     "text": [
      "('Line 1 - Value of c is ', 31)\n",
      "('Line 2 - Value of c is ', 11)\n",
      "('Line 3 - Value of c is ', 210)\n",
      "('Line 4 - Value of c is ', 2)\n",
      "('Line 5 - Value of c is ', 1)\n",
      "('Line 6 - Value of c is ', 8)\n",
      "('Line 7 - Value of c is ', 2)\n"
     ]
    }
   ],
   "source": [
    "#Basic Arithmetic Operations\n",
    "a = 21\n",
    "b = 10\n",
    "c = 0\n",
    "c = a + b\n",
    "print (\"Line 1 - Value of c is \", c)\n",
    "c = a - b\n",
    "print (\"Line 2 - Value of c is \", c )\n",
    "c = a * b\n",
    "print (\"Line 3 - Value of c is \", c)\n",
    "c = a / b\n",
    "print (\"Line 4 - Value of c is \", c )\n",
    "c = a % b\n",
    "print (\"Line 5 - Value of c is \", c)\n",
    "a = 2\n",
    "b = 3\n",
    "c = a**b\n",
    "print (\"Line 6 - Value of c is \", c)\n",
    "a = 10\n",
    "b = 5\n",
    "c = a//b\n",
    "print (\"Line 7 - Value of c is \", c)"
   ]
  },
  {
   "cell_type": "code",
   "execution_count": 22,
   "metadata": {
    "collapsed": false
   },
   "outputs": [
    {
     "name": "stdout",
     "output_type": "stream",
     "text": [
      "Line 1 - a is not equal to b\n",
      "Line 2 - a is not equal to b\n",
      "Line 3 - a is not less than b\n",
      "Line 4 - a is greater than b\n",
      "values of a and b swapped. a becomes 10, b becomes 21\n",
      "Line 5 - a is either less than or equal to b\n",
      "Line 6 - b is either greater than or equal to b\n"
     ]
    }
   ],
   "source": [
    "#Conditional opertors\n",
    "a = 21\n",
    "b = 10\n",
    "if ( a == b ):\n",
    "    print (\"Line 1 - a is equal to b\")\n",
    "else:\n",
    "    print (\"Line 1 - a is not equal to b\")\n",
    "if ( a != b ):\n",
    "    print (\"Line 2 - a is not equal to b\")\n",
    "else:\n",
    "    print (\"Line 2 - a is equal to b\")\n",
    "if ( a < b ):\n",
    "    print (\"Line 3 - a is less than b\" )\n",
    "else:\n",
    "    print (\"Line 3 - a is not less than b\")\n",
    "if ( a > b ):\n",
    "    print (\"Line 4 - a is greater than b\")\n",
    "else:\n",
    "    print (\"Line 4 - a is not greater than b\")\n",
    "\n",
    "a,b=b,a ; print (\"values of a and b swapped. a becomes 10, b becomes 21\")\n",
    "\n",
    "if ( a <= b ):\n",
    "    print (\"Line 5 - a is either less than or equal to b\")\n",
    "else:\n",
    "    print (\"Line 5 - a is neither less than nor equal to b\")\n",
    "if ( b >= a ):\n",
    "    print (\"Line 6 - b is either greater than or equal to b\")\n",
    "else:\n",
    "    print (\"Line 6 - b is neither greater than nor equal to b\")"
   ]
  },
  {
   "cell_type": "code",
   "execution_count": 23,
   "metadata": {
    "collapsed": false
   },
   "outputs": [
    {
     "name": "stdout",
     "output_type": "stream",
     "text": [
      "('Line 1 - Value of c is ', 31)\n",
      "('Line 2 - Value of c is ', 52)\n",
      "('Line 3 - Value of c is ', 1092)\n",
      "('Line 4 - Value of c is ', 52)\n",
      "('Line 5 - Value of c is ', 2)\n",
      "('Line 6 - Value of c is ', 2097152)\n",
      "('Line 7 - Value of c is ', 99864)\n"
     ]
    }
   ],
   "source": [
    "#Assignment opertaions\n",
    "a = 21\n",
    "b = 10\n",
    "c = 0\n",
    "c = a + b\n",
    "print (\"Line 1 - Value of c is \", c)\n",
    "c += a\n",
    "print (\"Line 2 - Value of c is \", c )\n",
    "c *= a\n",
    "print (\"Line 3 - Value of c is \", c )\n",
    "c /= a\n",
    "print (\"Line 4 - Value of c is \", c )\n",
    "c = 2\n",
    "c %= a\n",
    "print (\"Line 5 - Value of c is \", c)\n",
    "c **= a\n",
    "print (\"Line 6 - Value of c is \", c)\n",
    "c //= a\n",
    "print (\"Line 7 - Value of c is \", c)"
   ]
  },
  {
   "cell_type": "code",
   "execution_count": 24,
   "metadata": {
    "collapsed": false
   },
   "outputs": [
    {
     "name": "stdout",
     "output_type": "stream",
     "text": [
      "('a=', 60, ':', '0b111100', 'b=', 13, ':', '0b1101')\n",
      "('result of AND is ', 12, ':', '0b1100')\n",
      "('result of OR is ', 61, ':', '0b111101')\n",
      "('result of EXOR is ', 49, ':', '0b110001')\n",
      "('result of COMPLEMENT is ', -61, ':', '-0b111101')\n",
      "('result of LEFT SHIFT is ', 240, ':', '0b11110000')\n",
      "('result of RIGHT SHIFT is ', 15, ':', '0b1111')\n"
     ]
    }
   ],
   "source": [
    "#Python bitwise operator\n",
    "a = 60 # 60 = 0011 1100\n",
    "b = 13 # 13 = 0000 1101\n",
    "print ('a=',a,':',bin(a),'b=',b,':',bin(b))\n",
    "c = 0\n",
    "c = a & b;\n",
    "# 12 = 0000 1100\n",
    "print (\"result of AND is \", c,':',bin(c))\n",
    "c = a | b;\n",
    "# 61 = 0011 1101\n",
    "print (\"result of OR is \", c,':',bin(c))\n",
    "c = a ^ b;\n",
    "# 49 = 0011 0001\n",
    "print (\"result of EXOR is \", c,':',bin(c))\n",
    "c = ~a;\n",
    "# -61 = 1100 0011\n",
    "print (\"result of COMPLEMENT is \", c,':',bin(c))\n",
    "c = a << 2;\n",
    "# 240 = 1111 0000\n",
    "print (\"result of LEFT SHIFT is \", c,':',bin(c))\n",
    "c = a >> 2;\n",
    "# 15 = 0000 1111\n",
    "print (\"result of RIGHT SHIFT is \", c,':',bin(c))"
   ]
  },
  {
   "cell_type": "code",
   "execution_count": 25,
   "metadata": {
    "collapsed": false
   },
   "outputs": [
    {
     "name": "stdout",
     "output_type": "stream",
     "text": [
      "Line 1 - a is not available in the given list\n",
      "Line 2 - b is not available in the given list\n",
      "Line 3 - a is available in the given list\n"
     ]
    }
   ],
   "source": [
    "#Logical operations\n",
    "a = 10\n",
    "b = 20\n",
    "list = [1, 2, 3, 4, 5 ]\n",
    "if ( a in list ):\n",
    "    print (\"Line 1 - a is available in the given list\")\n",
    "else:\n",
    "    print (\"Line 1 - a is not available in the given list\")\n",
    "if ( b not in list ):\n",
    "    print (\"Line 2 - b is not available in the given list\")\n",
    "else:\n",
    "    print (\"Line 2 - b is available in the given list\")\n",
    "\n",
    "c=b/a\n",
    "\n",
    "if ( c in list ):\n",
    "    print (\"Line 3 - a is available in the given list\")\n",
    "else:\n",
    "    print (\"Line 3 - a is not available in the given list\")"
   ]
  },
  {
   "cell_type": "code",
   "execution_count": 26,
   "metadata": {
    "collapsed": false
   },
   "outputs": [
    {
     "name": "stdout",
     "output_type": "stream",
     "text": [
      "('Line 1', 'a=', 20, ':', 18358208, 'b=', 20, ':', 18358208)\n",
      "Line 2 - a and b have same identity\n",
      "Line 3 - a and b have same identity\n",
      "('Line 4', 'a=', 20, ':', 18358208, 'b=', 30, ':', 18357968)\n",
      "Line 5 - a and b do not have same identity\n"
     ]
    }
   ],
   "source": [
    "#Identity Opertors\n",
    "a = 20\n",
    "b = 20\n",
    "print ('Line 1','a=',a,':',id(a), 'b=',b,':',id(b))\n",
    "if ( a is b ):\n",
    "    print (\"Line 2 - a and b have same identity\")\n",
    "else:\n",
    "    print (\"Line 2 - a and b do not have same identity\")\n",
    "if ( id(a) == id(b) ):\n",
    "    print (\"Line 3 - a and b have same identity\")\n",
    "else:\n",
    "    print (\"Line 3 - a and b do not have same identity\")\n",
    "\n",
    "b = 30\n",
    "\n",
    "print ('Line 4','a=',a,':',id(a), 'b=',b,':',id(b))\n",
    "if ( a is not b ):\n",
    "    print (\"Line 5 - a and b do not have same identity\")\n",
    "else:\n",
    "    print (\"Line 5 - a and b have same identity\")"
   ]
  },
  {
   "cell_type": "code",
   "execution_count": 31,
   "metadata": {
    "collapsed": false
   },
   "outputs": [
    {
     "name": "stdout",
     "output_type": "stream",
     "text": [
      "a:20 b:10 c:15 d:5\n",
      "('Value of (a + b) * c / d is ', 90)\n",
      "('Value of ((a + b) * c) / d is ', 90)\n",
      "('Value of (a + b) * (c / d) is ', 90)\n",
      "('Value of a + (b * c) / d is ', 50)\n"
     ]
    }
   ],
   "source": [
    "#Operator Precedence\n",
    "\n",
    "a = 20\n",
    "b = 10\n",
    "c = 15\n",
    "d = 5\n",
    "print (\"a:%d b:%d c:%d d:%d\" % (a,b,c,d ))\n",
    "e = (a + b) * c / d #( 30 * 15 ) / 5\n",
    "print (\"Value of (a + b) * c / d is \", e)\n",
    "e = ((a + b) * c) / d # (30 * 15 ) / 5\n",
    "print (\"Value of ((a + b) * c) / d is \",e)\n",
    "e = (a + b) * (c / d) # (30) * (15/5)\n",
    "print (\"Value of (a + b) * (c / d) is \",e)\n",
    "e = a + (b * c) / d #20 + (150/5)\n",
    "print (\"Value of a + (b * c) / d is \",e)\n"
   ]
  },
  {
   "cell_type": "markdown",
   "metadata": {},
   "source": [
    "Decision Making"
   ]
  },
  {
   "cell_type": "code",
   "execution_count": 33,
   "metadata": {
    "collapsed": false
   },
   "outputs": [
    {
     "name": "stdout",
     "output_type": "stream",
     "text": [
      "1 - Got a true expression value\n",
      "100\n",
      "0\n",
      "Good bye!\n"
     ]
    }
   ],
   "source": [
    "#if Statement\n",
    "var1 = 100\n",
    "if var1:\n",
    "    print (\"1 - Got a true expression value\")\n",
    "print (var1)\n",
    "var2 = 0\n",
    "if var2:\n",
    "    print (\"2 - Got a true expression value\")\n",
    "print (var2)\n",
    "print (\"Good bye!\")"
   ]
  },
  {
   "cell_type": "code",
   "execution_count": 36,
   "metadata": {
    "collapsed": false
   },
   "outputs": [
    {
     "name": "stdout",
     "output_type": "stream",
     "text": [
      "Enter amount: 500\n",
      "('Discount', 25.0)\n",
      "('Net payable:', 475.0)\n"
     ]
    }
   ],
   "source": [
    "#if..else\n",
    "amount=int(input(\"Enter amount: \"))\n",
    "if amount<1000:\n",
    "    discount=amount*0.05\n",
    "    print (\"Discount\",discount)\n",
    "else:\n",
    "    discount=amount*0.10\n",
    "    print (\"Discount\",discount)\n",
    "print (\"Net payable:\",amount-discount)"
   ]
  },
  {
   "cell_type": "code",
   "execution_count": 37,
   "metadata": {
    "collapsed": false
   },
   "outputs": [
    {
     "name": "stdout",
     "output_type": "stream",
     "text": [
      "Enter amount: 5500\n",
      "('Discount', 825.0)\n",
      "('Net payable:', 4675.0)\n"
     ]
    }
   ],
   "source": [
    "#if..elif\n",
    "amount=int(input(\"Enter amount: \"))\n",
    "if amount<1000:\n",
    "    discount=amount*0.05\n",
    "    print (\"Discount\",discount)\n",
    "elif amount<5000:\n",
    "    discount=amount*0.10\n",
    "    print (\"Discount\",discount)\n",
    "else:\n",
    "    discount=amount*0.15\n",
    "    print (\"Discount\",discount)\n",
    "print (\"Net payable:\",amount-discount)"
   ]
  },
  {
   "cell_type": "code",
   "execution_count": 40,
   "metadata": {
    "collapsed": false
   },
   "outputs": [
    {
     "name": "stdout",
     "output_type": "stream",
     "text": [
      "enter number12\n",
      "Divisible by 3 and 2\n"
     ]
    }
   ],
   "source": [
    "#Nested if statement\n",
    "num=int(input(\"enter number\"))\n",
    "if num%2==0:\n",
    "    if num%3==0:\n",
    "        print (\"Divisible by 3 and 2\")\n",
    "    else:\n",
    "        print (\"divisible by 2 not divisible by 3\")\n",
    "else:\n",
    "    if num%3==0:\n",
    "        print (\"divisible by 3 not divisible by 2\")\n",
    "    else:\n",
    "        print(\"not Divisible by 2 not divisible by 3\")"
   ]
  },
  {
   "cell_type": "code",
   "execution_count": 41,
   "metadata": {
    "collapsed": false
   },
   "outputs": [
    {
     "name": "stdout",
     "output_type": "stream",
     "text": [
      "Value of expression is 100\n",
      "Good bye!\n"
     ]
    }
   ],
   "source": [
    "#One ;ine If clause\n",
    "var = 100\n",
    "if ( var == 100 ) : print (\"Value of expression is 100\")\n",
    "print (\"Good bye!\")"
   ]
  },
  {
   "cell_type": "code",
   "execution_count": 43,
   "metadata": {
    "collapsed": false
   },
   "outputs": [
    {
     "name": "stdout",
     "output_type": "stream",
     "text": [
      "('The count is:', 0)\n",
      "('The count is:', 1)\n",
      "('The count is:', 2)\n",
      "('The count is:', 3)\n",
      "('The count is:', 4)\n",
      "('The count is:', 5)\n",
      "('The count is:', 6)\n",
      "('The count is:', 7)\n",
      "('The count is:', 8)\n",
      "Good bye!\n"
     ]
    }
   ],
   "source": [
    "#While loop\n",
    "count = 0\n",
    "while (count < 9):\n",
    "    print ('The count is:', count)\n",
    "    count = count + 1\n",
    "print (\"Good bye!\")"
   ]
  },
  {
   "cell_type": "code",
   "execution_count": 44,
   "metadata": {
    "collapsed": false
   },
   "outputs": [
    {
     "name": "stdout",
     "output_type": "stream",
     "text": [
      "(0, ' is less than 5')\n",
      "(1, ' is less than 5')\n",
      "(2, ' is less than 5')\n",
      "(3, ' is less than 5')\n",
      "(4, ' is less than 5')\n",
      "(5, ' is not less than 5')\n"
     ]
    }
   ],
   "source": [
    "#while..else\n",
    "count = 0\n",
    "while count < 5:\n",
    "    print (count, \" is less than 5\")\n",
    "    count = count + 1\n",
    "else:\n",
    "    print (count, \" is not less than 5\")"
   ]
  },
  {
   "cell_type": "code",
   "execution_count": 1,
   "metadata": {
    "collapsed": false
   },
   "outputs": [
    {
     "name": "stdout",
     "output_type": "stream",
     "text": [
      "Good bye!\n"
     ]
    }
   ],
   "source": [
    "#One line while\n",
    "#!!Note we execute this, program goes into infinite loop \n",
    "flag = 1\n",
    "#while (flag): print ('Given flag is really true!')\n",
    "print (\"Good bye!\")"
   ]
  },
  {
   "cell_type": "code",
   "execution_count": 8,
   "metadata": {
    "collapsed": false
   },
   "outputs": [
    {
     "name": "stdout",
     "output_type": "stream",
     "text": [
      "('sndp: ', 0)\n",
      "('sndp: ', 1)\n",
      "('sndp: ', 2)\n",
      "('sndp: ', 3)\n",
      "('sndp: ', 4)\n"
     ]
    }
   ],
   "source": [
    "#for loop\n",
    "for var in list(range(5)):\n",
    "    print ('sndp: ',var)"
   ]
  },
  {
   "cell_type": "code",
   "execution_count": 6,
   "metadata": {
    "collapsed": false
   },
   "outputs": [
    {
     "name": "stdout",
     "output_type": "stream",
     "text": [
      "('Current Letter :', 'P')\n",
      "('Current Letter :', 'y')\n",
      "('Current Letter :', 't')\n",
      "('Current Letter :', 'h')\n",
      "('Current Letter :', 'o')\n",
      "('Current Letter :', 'n')\n",
      "()\n",
      "('Current fruit :', 'banana')\n",
      "('Current fruit :', 'apple')\n",
      "('Current fruit :', 'mango')\n",
      "Good bye!\n"
     ]
    }
   ],
   "source": [
    "for letter in 'Python': # traversal of a string sequence\n",
    "    print ('Current Letter :', letter)\n",
    "print()\n",
    "fruits = ['banana', 'apple', 'mango']\n",
    "for fruit in fruits: # traversal of List sequence\n",
    "    print ('Current fruit :', fruit)\n",
    "print (\"Good bye!\")"
   ]
  },
  {
   "cell_type": "code",
   "execution_count": 9,
   "metadata": {
    "collapsed": false
   },
   "outputs": [
    {
     "name": "stdout",
     "output_type": "stream",
     "text": [
      "('Current fruit :', 'banana')\n",
      "('Current fruit :', 'apple')\n",
      "('Current fruit :', 'mango')\n",
      "Good bye!\n"
     ]
    }
   ],
   "source": [
    "#iterating by sequence index\n",
    "fruits = ['banana', 'apple','mango']\n",
    "for index in range(len(fruits)):\n",
    "    print ('Current fruit :', fruits[index])\n",
    "print (\"Good bye!\")"
   ]
  },
  {
   "cell_type": "code",
   "execution_count": 13,
   "metadata": {
    "collapsed": false
   },
   "outputs": [
    {
     "name": "stdout",
     "output_type": "stream",
     "text": [
      "the list doesnot contain even number\n"
     ]
    }
   ],
   "source": [
    "#For and Else\n",
    "numbers=[11,33,55,39,55,75,37,21,23,41,13]\n",
    "for num in numbers:\n",
    "    if num%2==0:\n",
    "        print ('the list contains an even number')\n",
    "        #break\n",
    "else:\n",
    "    print ('the list doesnot contain even number')"
   ]
  },
  {
   "cell_type": "code",
   "execution_count": 24,
   "metadata": {
    "collapsed": false
   },
   "outputs": [
    {
     "name": "stdout",
     "output_type": "stream",
     "text": [
      "[1, 2, 3, 4, 5, 6, 7, 8, 9, 10, 2, 4, 6, 8, 10, 12, 14, 16, 18, 20, 3, 6, 9, 12, 15, 18, 21, 24, 27, 30, 4, 8, 12, 16, 20, 24, 28, 32, 36, 40, 5, 10, 15, 20, 25, 30, 35, 40, 45, 50, 6, 12, 18, 24, 30, 36, 42, 48, 54, 60, 7, 14, 21, 28, 35, 42, 49, 56, 63, 70, 8, 16, 24, 32, 40, 48, 56, 64, 72, 80, 9, 18, 27, 36, 45, 54, 63, 72, 81, 90, 10, 20, 30, 40, 50, 60, 70, 80, 90, 100]\n",
      "()\n"
     ]
    }
   ],
   "source": [
    "#nested for loop\n",
    "#import sys\n",
    "k = []\n",
    "for i in range(1,11):\n",
    "    for j in range(1,11):\n",
    "        k.append(i*j)\n",
    "print (k)\n",
    "print()"
   ]
  },
  {
   "cell_type": "code",
   "execution_count": 26,
   "metadata": {
    "collapsed": false
   },
   "outputs": [
    {
     "name": "stdout",
     "output_type": "stream",
     "text": [
      "('Current Letter :', 'P')\n",
      "('Current Letter :', 'y')\n",
      "('Current Letter :', 't')\n",
      "('Current variable value :', 10)\n",
      "('Current variable value :', 9)\n",
      "('Current variable value :', 8)\n",
      "('Current variable value :', 7)\n",
      "('Current variable value :', 6)\n",
      "Good bye!\n"
     ]
    }
   ],
   "source": [
    "#Break statement\n",
    "for letter in 'Python': # First Example\n",
    "    if letter == 'h':\n",
    "        break\n",
    "    print ('Current Letter :', letter)\n",
    "\n",
    "var = 10 # Second Example\n",
    "while var > 0:\n",
    "    print ('Current variable value :', var)\n",
    "    var = var -1\n",
    "    if var == 5:\n",
    "        break\n",
    "print (\"Good bye!\")"
   ]
  },
  {
   "cell_type": "code",
   "execution_count": 28,
   "metadata": {
    "collapsed": false
   },
   "outputs": [
    {
     "name": "stdout",
     "output_type": "stream",
     "text": [
      "any number: 8\n",
      "number not found in list\n"
     ]
    }
   ],
   "source": [
    "no = int(input('any number: '))\n",
    "numbers=[11,33,55,39,55,75,37,21,23,41,13]\n",
    "for num in numbers:\n",
    "    if num==no:\n",
    "        print ('number found in list')\n",
    "        break\n",
    "else:\n",
    "    print ('number not found in list')"
   ]
  },
  {
   "cell_type": "code",
   "execution_count": 29,
   "metadata": {
    "collapsed": false
   },
   "outputs": [
    {
     "name": "stdout",
     "output_type": "stream",
     "text": [
      "('Current Letter :', 'P')\n",
      "('Current Letter :', 'y')\n",
      "('Current Letter :', 't')\n",
      "('Current Letter :', 'o')\n",
      "('Current Letter :', 'n')\n",
      "('Current variable value :', 10)\n",
      "('Current variable value :', 9)\n",
      "('Current variable value :', 8)\n",
      "('Current variable value :', 7)\n",
      "('Current variable value :', 6)\n",
      "('Current variable value :', 5)\n",
      "('Current variable value :', 4)\n",
      "('Current variable value :', 3)\n",
      "('Current variable value :', 2)\n",
      "('Current variable value :', 1)\n",
      "Good bye!\n"
     ]
    }
   ],
   "source": [
    "#Continue statement\n",
    "for letter in 'Python': # First Example\n",
    "    if letter == 'h':\n",
    "        continue\n",
    "    print ('Current Letter :', letter)\n",
    "\n",
    "var = 10 # Second Example\n",
    "while var > 0:\n",
    "    print ('Current variable value :', var)\n",
    "    var = var -1\n",
    "    if var == 5:\n",
    "        continue\n",
    "print (\"Good bye!\")"
   ]
  },
  {
   "cell_type": "code",
   "execution_count": 30,
   "metadata": {
    "collapsed": false
   },
   "outputs": [
    {
     "name": "stdout",
     "output_type": "stream",
     "text": [
      "('Current Letter :', 'P')\n",
      "('Current Letter :', 'y')\n",
      "('Current Letter :', 't')\n",
      "('Current Letter :', 'h')\n",
      "('Current Letter :', 'o')\n",
      "('Current Letter :', 'n')\n",
      "('Current variable value :', 10)\n",
      "('Current variable value :', 9)\n",
      "('Current variable value :', 8)\n",
      "('Current variable value :', 7)\n",
      "('Current variable value :', 6)\n",
      "('Current variable value :', 5)\n",
      "('Current variable value :', 4)\n",
      "('Current variable value :', 3)\n",
      "('Current variable value :', 2)\n",
      "('Current variable value :', 1)\n",
      "Good bye!\n"
     ]
    }
   ],
   "source": [
    "#Pass statement\n",
    "for letter in 'Python': # First Example\n",
    "    if letter == 'h':\n",
    "        pass\n",
    "    print ('Current Letter :', letter)\n",
    "\n",
    "var = 10 # Second Example\n",
    "while var > 0:\n",
    "    print ('Current variable value :', var)\n",
    "    var = var -1\n",
    "    if var == 5:\n",
    "        pass\n",
    "print (\"Good bye!\")"
   ]
  },
  {
   "cell_type": "markdown",
   "metadata": {},
   "source": [
    "Iterator is an object, which allows a programmer to traverse through all the elements of a collection, regardless of its specific implementation. In Python, an iterator object implements two methods, iter() and next().\n",
    "String, List or Tuple objects can be used to create an Iterator."
   ]
  },
  {
   "cell_type": "code",
   "execution_count": null,
   "metadata": {
    "collapsed": false
   },
   "outputs": [],
   "source": [
    "import sys\n",
    "list=[1,2,3,4]\n",
    "it = iter(list) # this builds an iterator object\n",
    "print (next(it)) #prints next available element in iterator\n",
    "#Iterator object can be traversed using regular for statement\n",
    "for x in it:\n",
    "    print (x,)\n",
    "#or using next() function\n",
    "while True:\n",
    "    try:\n",
    "        print (next(it))\n",
    "    except StopIteration:\n",
    "        sys.exit() #you have to import sys module for this"
   ]
  },
  {
   "cell_type": "markdown",
   "metadata": {},
   "source": [
    "#### Number ceil() Method\n",
    "The ceil() method returns the ceiling value of x i.e. the smallest integer not less than x."
   ]
  },
  {
   "cell_type": "code",
   "execution_count": 3,
   "metadata": {
    "collapsed": false
   },
   "outputs": [
    {
     "name": "stdout",
     "output_type": "stream",
     "text": [
      "('math.ceil(-45.17) : ', -45.0)\n",
      "('math.ceil(100.12) : ', 101.0)\n",
      "('math.ceil(100.72) : ', 101.0)\n",
      "('math.ceil(math.pi) : ', 4.0)\n"
     ]
    }
   ],
   "source": [
    "import math # This method is not accessibl\\e directly hence need to import math module \n",
    "print (\"math.ceil(-45.17) : \", math.ceil(-45.17))\n",
    "print (\"math.ceil(100.12) : \", math.ceil(100.12))\n",
    "print (\"math.ceil(100.72) : \", math.ceil(100.72))\n",
    "print (\"math.ceil(math.pi) : \", math.ceil(math.pi))"
   ]
  },
  {
   "cell_type": "markdown",
   "metadata": {},
   "source": [
    "#### Number exp() Method"
   ]
  },
  {
   "cell_type": "code",
   "execution_count": 4,
   "metadata": {
    "collapsed": false
   },
   "outputs": [
    {
     "name": "stdout",
     "output_type": "stream",
     "text": [
      "('math.exp(-45.17) : ', 2.4150062132629406e-20)\n",
      "('math.exp(100.12) : ', 3.0308436140742566e+43)\n",
      "('math.exp(100.72) : ', 5.522557130248187e+43)\n",
      "('math.exp(math.pi) : ', 23.140692632779267)\n"
     ]
    }
   ],
   "source": [
    "import math # This will import math module\n",
    "print (\"math.exp(-45.17) : \", math.exp(-45.17))\n",
    "print (\"math.exp(100.12) : \", math.exp(100.12))\n",
    "print (\"math.exp(100.72) : \", math.exp(100.72))\n",
    "print (\"math.exp(math.pi) : \", math.exp(math.pi))"
   ]
  },
  {
   "cell_type": "markdown",
   "metadata": {},
   "source": [
    "#### Number fabs() Method\n",
    "The fabs() method returns the absolute value of x. Although similar to the abs() function, there are differences between the two functions. They are: \n",
    "1. abs() is a built in function whereas fabs() is defined in math module.\n",
    "2. fabs() function works only on float and integer whereas abs() works with complex number also."
   ]
  },
  {
   "cell_type": "code",
   "execution_count": 5,
   "metadata": {
    "collapsed": false
   },
   "outputs": [
    {
     "name": "stdout",
     "output_type": "stream",
     "text": [
      "('math.fabs(-45.17) : ', 45.17)\n",
      "('math.fabs(100.12) : ', 100.12)\n",
      "('math.fabs(100.72) : ', 100.72)\n",
      "('math.fabs(math.pi) : ', 3.141592653589793)\n"
     ]
    }
   ],
   "source": [
    "import math # This will import math module\n",
    "print (\"math.fabs(-45.17) : \", math.fabs(-45.17))\n",
    "print (\"math.fabs(100.12) : \", math.fabs(100.12))\n",
    "print (\"math.fabs(100.72) : \", math.fabs(100.72))\n",
    "print (\"math.fabs(math.pi) : \", math.fabs(math.pi))"
   ]
  },
  {
   "cell_type": "markdown",
   "metadata": {},
   "source": [
    "#### Number floor() Method\n",
    "The floor() method returns the floor of x i.e. the largest integer not greater than x."
   ]
  },
  {
   "cell_type": "code",
   "execution_count": 6,
   "metadata": {
    "collapsed": false
   },
   "outputs": [
    {
     "name": "stdout",
     "output_type": "stream",
     "text": [
      "('math.floor(-45.17) : ', -46.0)\n",
      "('math.floor(100.12) : ', 100.0)\n",
      "('math.floor(100.72) : ', 100.0)\n",
      "('math.floor(math.pi) : ', 3.0)\n"
     ]
    }
   ],
   "source": [
    "import math # This will import math module\n",
    "print (\"math.floor(-45.17) : \", math.floor(-45.17))\n",
    "print (\"math.floor(100.12) : \", math.floor(100.12))\n",
    "print (\"math.floor(100.72) : \", math.floor(100.72))\n",
    "print (\"math.floor(math.pi) : \", math.floor(math.pi))"
   ]
  },
  {
   "cell_type": "markdown",
   "metadata": {},
   "source": [
    "#### Number log() Method\n",
    "The log() method returns the natural logarithm of x, for x > 0."
   ]
  },
  {
   "cell_type": "code",
   "execution_count": 7,
   "metadata": {
    "collapsed": false
   },
   "outputs": [
    {
     "name": "stdout",
     "output_type": "stream",
     "text": [
      "('math.log(100.12) : ', 4.6063694665635735)\n",
      "('math.log(100.72) : ', 4.612344389736092)\n",
      "('math.log(math.pi) : ', 1.1447298858494002)\n"
     ]
    }
   ],
   "source": [
    "import math # This will import math module\n",
    "print (\"math.log(100.12) : \", math.log(100.12))\n",
    "print (\"math.log(100.72) : \", math.log(100.72))\n",
    "print (\"math.log(math.pi) : \", math.log(math.pi))"
   ]
  },
  {
   "cell_type": "markdown",
   "metadata": {},
   "source": [
    "#### Number log10() Method\n",
    "The log10() method returns base-10 logarithm of x for x > 0."
   ]
  },
  {
   "cell_type": "code",
   "execution_count": 9,
   "metadata": {
    "collapsed": false
   },
   "outputs": [
    {
     "name": "stdout",
     "output_type": "stream",
     "text": [
      "('math.log10(100.12) : ', 2.0005208409361854)\n",
      "('math.log10(100.72) : ', 2.003115717099806)\n",
      "('math.log10(119) : ', 2.0755469613925306)\n",
      "('math.log10(math.pi) : ', 0.49714987269413385)\n"
     ]
    }
   ],
   "source": [
    "import math # This will import math module\n",
    "print (\"math.log10(100.12) : \", math.log10(100.12))\n",
    "print (\"math.log10(100.72) : \", math.log10(100.72))\n",
    "print (\"math.log10(119) : \", math.log10(119))\n",
    "print (\"math.log10(math.pi) : \", math.log10(math.pi))"
   ]
  },
  {
   "cell_type": "markdown",
   "metadata": {},
   "source": [
    "#### Number max() Method\n",
    "The max() method returns the largest of its arguments i.e. the value closest to positive infinity."
   ]
  },
  {
   "cell_type": "code",
   "execution_count": 2,
   "metadata": {
    "collapsed": false
   },
   "outputs": [
    {
     "name": "stdout",
     "output_type": "stream",
     "text": [
      "('max(80, 100, 1000) : ', 1000)\n",
      "('max(-20, 100, 400) : ', 400)\n",
      "('max(-80, -20, -10) : ', -10)\n",
      "('max(0, 100, -400) : ', 100)\n"
     ]
    }
   ],
   "source": [
    "print (\"max(80, 100, 1000) : \", max(80, 100, 1000))\n",
    "print (\"max(-20, 100, 400) : \", max(-20, 100, 400))\n",
    "print (\"max(-80, -20, -10) : \", max(-80, -20, -10))\n",
    "print (\"max(0, 100, -400) : \", max(0, 100, -400))"
   ]
  },
  {
   "cell_type": "markdown",
   "metadata": {},
   "source": [
    "#### Number min() Method\n",
    "The method min() returns the smallest of its arguments i.e. the value closest to negative\n",
    "infinity."
   ]
  },
  {
   "cell_type": "code",
   "execution_count": 3,
   "metadata": {
    "collapsed": false
   },
   "outputs": [
    {
     "name": "stdout",
     "output_type": "stream",
     "text": [
      "('min(80, 100, 1000) : ', 80)\n",
      "('min(-20, 100, 400) : ', -20)\n",
      "('min(-80, -20, -10) : ', -80)\n",
      "('min(0, 100, -400) : ', -400)\n"
     ]
    }
   ],
   "source": [
    "print (\"min(80, 100, 1000) : \", min(80, 100, 1000))\n",
    "print (\"min(-20, 100, 400) : \", min(-20, 100, 400))\n",
    "print (\"min(-80, -20, -10) : \", min(-80, -20, -10))\n",
    "print (\"min(0, 100, -400) : \", min(0, 100, -400))"
   ]
  },
  {
   "cell_type": "markdown",
   "metadata": {},
   "source": [
    "#### Number modf() Method\n",
    "The modf() method returns the fractional and integer parts of x in a two-item tuple. Both parts have the same sign as x. The integer part is returned as a float."
   ]
  },
  {
   "cell_type": "code",
   "execution_count": 4,
   "metadata": {
    "collapsed": false
   },
   "outputs": [
    {
     "name": "stdout",
     "output_type": "stream",
     "text": [
      "('math.modf(100.12) : ', (0.12000000000000455, 100.0))\n",
      "('math.modf(100.72) : ', (0.7199999999999989, 100.0))\n",
      "('math.modf(119) : ', (0.0, 119.0))\n",
      "('math.modf(math.pi) : ', (0.14159265358979312, 3.0))\n"
     ]
    }
   ],
   "source": [
    "#Output: This method returns the fractional and integer parts of x in a two-item tuple. Both the parts have the same sign as x. The integer part is returned as a float.\n",
    "import math # This will import math module\n",
    "print (\"math.modf(100.12) : \", math.modf(100.12))\n",
    "print (\"math.modf(100.72) : \", math.modf(100.72))\n",
    "print (\"math.modf(119) : \", math.modf(119))\n",
    "print (\"math.modf(math.pi) : \", math.modf(math.pi))"
   ]
  },
  {
   "cell_type": "markdown",
   "metadata": {},
   "source": [
    "#### Number pow() Method\n",
    "This method returns the value of xy."
   ]
  },
  {
   "cell_type": "code",
   "execution_count": 5,
   "metadata": {
    "collapsed": false
   },
   "outputs": [
    {
     "name": "stdout",
     "output_type": "stream",
     "text": [
      "('math.pow(100, 2) : ', 10000.0)\n",
      "('math.pow(100, -2) : ', 0.0001)\n",
      "('math.pow(2, 4) : ', 16.0)\n",
      "('math.pow(3, 0) : ', 1.0)\n"
     ]
    }
   ],
   "source": [
    "import math # This will import math module\n",
    "print (\"math.pow(100, 2) : \", math.pow(100, 2))\n",
    "print (\"math.pow(100, -2) : \", math.pow(100, -2))\n",
    "print (\"math.pow(2, 4) : \", math.pow(2, 4))\n",
    "print (\"math.pow(3, 0) : \", math.pow(3, 0))"
   ]
  },
  {
   "cell_type": "markdown",
   "metadata": {},
   "source": [
    "#### Number round() Method\n",
    "round() is a built-in function in Python. It returns x rounded to n digits from the decimal point."
   ]
  },
  {
   "cell_type": "code",
   "execution_count": 6,
   "metadata": {
    "collapsed": false
   },
   "outputs": [
    {
     "name": "stdout",
     "output_type": "stream",
     "text": [
      "('round(70.23456) : ', 70.0)\n",
      "('round(56.659,1) : ', 56.7)\n",
      "('round(80.264, 2) : ', 80.26)\n",
      "('round(100.000056, 3) : ', 100.0)\n",
      "('round(-100.000056, 3) : ', -100.0)\n"
     ]
    }
   ],
   "source": [
    "print (\"round(70.23456) : \", round(70.23456))\n",
    "print (\"round(56.659,1) : \", round(56.659,1))\n",
    "print (\"round(80.264, 2) : \", round(80.264, 2))\n",
    "print (\"round(100.000056, 3) : \", round(100.000056, 3))\n",
    "print (\"round(-100.000056, 3) : \", round(-100.000056, 3))"
   ]
  },
  {
   "cell_type": "markdown",
   "metadata": {},
   "source": [
    "#### Number sqrt() Method"
   ]
  },
  {
   "cell_type": "code",
   "execution_count": 8,
   "metadata": {
    "collapsed": false
   },
   "outputs": [
    {
     "name": "stdout",
     "output_type": "stream",
     "text": [
      "('math.sqrt(100) : ', 10.0)\n",
      "('math.sqrt(7) : ', 2.6457513110645907)\n",
      "('math.sqrt(math.pi) : ', 1.7724538509055159)\n"
     ]
    }
   ],
   "source": [
    "import math # This will import math module\n",
    "print (\"math.sqrt(100) : \", math.sqrt(100))\n",
    "print (\"math.sqrt(7) : \", math.sqrt(7))\n",
    "print (\"math.sqrt(math.pi) : \", math.sqrt(math.pi))"
   ]
  },
  {
   "cell_type": "markdown",
   "metadata": {},
   "source": [
    "### Random Number Functions"
   ]
  },
  {
   "cell_type": "markdown",
   "metadata": {},
   "source": [
    "#### Number choice() Method"
   ]
  },
  {
   "cell_type": "code",
   "execution_count": 9,
   "metadata": {
    "collapsed": false
   },
   "outputs": [
    {
     "name": "stdout",
     "output_type": "stream",
     "text": [
      "('returns a random number from range(100) : ', 46)\n",
      "('returns random element from list [1, 2, 3, 5, 9]) : ', 1)\n",
      "(\"returns random character from string 'Hello World' : \", 'l')\n"
     ]
    }
   ],
   "source": [
    "import random\n",
    "print (\"returns a random number from range(100) : \",random.choice(range(100)))\n",
    "print (\"returns random element from list [1, 2, 3, 5, 9]) : \", random.choice([1,\n",
    "2, 3, 5, 9]))\n",
    "print (\"returns random character from string 'Hello World' : \",\n",
    "random.choice('Hello World'))"
   ]
  },
  {
   "cell_type": "markdown",
   "metadata": {},
   "source": [
    "#### Number randrange() Method"
   ]
  },
  {
   "cell_type": "code",
   "execution_count": 12,
   "metadata": {
    "collapsed": false
   },
   "outputs": [
    {
     "name": "stdout",
     "output_type": "stream",
     "text": [
      "('randrange(1,100, 2) : ', 93)\n",
      "('randrange(100) : ', 22)\n"
     ]
    }
   ],
   "source": [
    "import random\n",
    "# randomly select an odd number between 1-100\n",
    "print (\"randrange(1,100, 2) : \", random.randrange(1, 100, 2))\n",
    "# randomly select a number between 0-99\n",
    "print (\"randrange(100) : \", random.randrange(100))"
   ]
  },
  {
   "cell_type": "markdown",
   "metadata": {},
   "source": [
    "#### Number random() Method"
   ]
  },
  {
   "cell_type": "code",
   "execution_count": 14,
   "metadata": {
    "collapsed": false
   },
   "outputs": [
    {
     "name": "stdout",
     "output_type": "stream",
     "text": [
      "('random() : ', 0.6176309426152584)\n",
      "('random() : ', 0.3253971481799681)\n"
     ]
    }
   ],
   "source": [
    "import random\n",
    "# First random number\n",
    "print (\"random() : \", random.random())\n",
    "# Second random number\n",
    "print (\"random() : \", random.random())"
   ]
  },
  {
   "cell_type": "markdown",
   "metadata": {},
   "source": [
    "#### Number seed() Method"
   ]
  },
  {
   "cell_type": "code",
   "execution_count": 15,
   "metadata": {
    "collapsed": false
   },
   "outputs": [
    {
     "name": "stdout",
     "output_type": "stream",
     "text": [
      "('random number with default seed', 0.8423385582285264)\n",
      "('random number with int seed', 0.5714025946899135)\n"
     ]
    },
    {
     "ename": "TypeError",
     "evalue": "seed() takes at most 2 arguments (3 given)",
     "output_type": "error",
     "traceback": [
      "\u001b[0;31m---------------------------------------------------------------------------\u001b[0m",
      "\u001b[0;31mTypeError\u001b[0m                                 Traceback (most recent call last)",
      "\u001b[0;32m<ipython-input-15-00c02b60338d>\u001b[0m in \u001b[0;36m<module>\u001b[0;34m()\u001b[0m\n\u001b[1;32m      4\u001b[0m \u001b[0mrandom\u001b[0m\u001b[1;33m.\u001b[0m\u001b[0mseed\u001b[0m\u001b[1;33m(\u001b[0m\u001b[1;36m10\u001b[0m\u001b[1;33m)\u001b[0m\u001b[1;33m\u001b[0m\u001b[0m\n\u001b[1;32m      5\u001b[0m \u001b[1;32mprint\u001b[0m \u001b[1;33m(\u001b[0m\u001b[1;34m\"random number with int seed\"\u001b[0m\u001b[1;33m,\u001b[0m \u001b[0mrandom\u001b[0m\u001b[1;33m.\u001b[0m\u001b[0mrandom\u001b[0m\u001b[1;33m(\u001b[0m\u001b[1;33m)\u001b[0m\u001b[1;33m)\u001b[0m\u001b[1;33m\u001b[0m\u001b[0m\n\u001b[0;32m----> 6\u001b[0;31m \u001b[0mrandom\u001b[0m\u001b[1;33m.\u001b[0m\u001b[0mseed\u001b[0m\u001b[1;33m(\u001b[0m\u001b[1;34m\"hello\"\u001b[0m\u001b[1;33m,\u001b[0m\u001b[1;36m2\u001b[0m\u001b[1;33m)\u001b[0m\u001b[1;33m\u001b[0m\u001b[0m\n\u001b[0m\u001b[1;32m      7\u001b[0m \u001b[1;32mprint\u001b[0m \u001b[1;33m(\u001b[0m\u001b[1;34m\"random number with string seed\"\u001b[0m\u001b[1;33m,\u001b[0m \u001b[0mrandom\u001b[0m\u001b[1;33m.\u001b[0m\u001b[0mrandom\u001b[0m\u001b[1;33m(\u001b[0m\u001b[1;33m)\u001b[0m\u001b[1;33m)\u001b[0m\u001b[1;33m\u001b[0m\u001b[0m\n",
      "\u001b[0;31mTypeError\u001b[0m: seed() takes at most 2 arguments (3 given)"
     ]
    }
   ],
   "source": [
    "import random\n",
    "random.seed()\n",
    "print (\"random number with default seed\", random.random())\n",
    "random.seed(10)\n",
    "print (\"random number with int seed\", random.random())\n",
    "random.seed(\"hello\",2)\n",
    "print (\"random number with string seed\", random.random())"
   ]
  },
  {
   "cell_type": "code",
   "execution_count": null,
   "metadata": {
    "collapsed": true
   },
   "outputs": [],
   "source": []
  }
 ],
 "metadata": {
  "kernelspec": {
   "display_name": "Python 2",
   "language": "python",
   "name": "python2"
  },
  "language_info": {
   "codemirror_mode": {
    "name": "ipython",
    "version": 2
   },
   "file_extension": ".py",
   "mimetype": "text/x-python",
   "name": "python",
   "nbconvert_exporter": "python",
   "pygments_lexer": "ipython2",
   "version": "2.7.13"
  }
 },
 "nbformat": 4,
 "nbformat_minor": 2
}
